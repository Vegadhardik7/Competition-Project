{
  "cells": [
    {
      "cell_type": "code",
      "execution_count": null,
      "metadata": {
        "id": "lIYdn1woOS1n"
      },
      "outputs": [],
      "source": [
        "import pandas as pd\n",
        "import numpy as np"
      ]
    },
    {
      "cell_type": "code",
      "source": [
        "from google.colab import drive\n",
        "drive.mount('/content/drive')"
      ],
      "metadata": {
        "id": "Sbt2NjLz4WXV",
        "outputId": "510c1916-7f55-43ee-f2f9-4265f1195b73",
        "colab": {
          "base_uri": "https://localhost:8080/"
        }
      },
      "execution_count": null,
      "outputs": [
        {
          "output_type": "stream",
          "name": "stdout",
          "text": [
            "Mounted at /content/drive\n"
          ]
        }
      ]
    },
    {
      "cell_type": "code",
      "source": [
        "num_classes = 2\n",
        "class_names = ['suicide','non-suicide']"
      ],
      "metadata": {
        "id": "W96yrmh15GMh"
      },
      "execution_count": null,
      "outputs": []
    },
    {
      "cell_type": "code",
      "source": [
        "import re\n",
        "from nltk.tokenize import word_tokenize\n",
        "\n",
        "def clean_text(data):\n",
        "    \n",
        "    # remove hashtags and @usernames\n",
        "    data = re.sub(r'http\\S+', '', data)\n",
        "    data = re.sub('[^a-zA-Z]', ' ', data)\n",
        "    \n",
        "    # Lowering Text\n",
        "    data = data.lower()\n",
        "    data = word_tokenize(data)\n",
        "    \n",
        "    return data"
      ],
      "metadata": {
        "id": "55JiAaRk8J2w"
      },
      "execution_count": null,
      "outputs": []
    },
    {
      "cell_type": "code",
      "source": [
        "import nltk\n",
        "nltk.download('punkt')\n",
        "\n",
        "values = [\"When you have a dream, you've got to grab it and never let go.\"]\n",
        "\n",
        "texts = [' '.join(clean_text(text)) for text in values]"
      ],
      "metadata": {
        "id": "crsY_ziT8OLG",
        "outputId": "08c1b8df-8934-4ce9-cb03-0b4bfee86891",
        "colab": {
          "base_uri": "https://localhost:8080/"
        }
      },
      "execution_count": null,
      "outputs": [
        {
          "output_type": "stream",
          "name": "stderr",
          "text": [
            "[nltk_data] Downloading package punkt to /root/nltk_data...\n",
            "[nltk_data]   Package punkt is already up-to-date!\n"
          ]
        }
      ]
    },
    {
      "cell_type": "code",
      "source": [
        "import nltk\n",
        "from nltk.corpus import stopwords\n",
        "nltk.download('stopwords')"
      ],
      "metadata": {
        "id": "QVuQGSK3ChBz",
        "outputId": "aac51bae-53f6-4472-c2f6-ed8985dd77b3",
        "colab": {
          "base_uri": "https://localhost:8080/"
        }
      },
      "execution_count": null,
      "outputs": [
        {
          "output_type": "stream",
          "name": "stderr",
          "text": [
            "[nltk_data] Downloading package stopwords to /root/nltk_data...\n",
            "[nltk_data]   Package stopwords is already up-to-date!\n"
          ]
        },
        {
          "output_type": "execute_result",
          "data": {
            "text/plain": [
              "True"
            ]
          },
          "metadata": {},
          "execution_count": 49
        }
      ]
    },
    {
      "cell_type": "code",
      "source": [
        "from nltk.stem.porter import PorterStemmer\n",
        "ps = PorterStemmer()\n",
        "corpus = []\n",
        "for i in range(0, len(values)):\n",
        "    data = re.sub('[^a-zA-Z]', ' ', values[i])\n",
        "    data = data.lower()\n",
        "    data = data.split()\n",
        "\n",
        "    data = [ps.stem(word) for word in data if not word in stopwords.words('english')]\n",
        "    data = ' '.join(data)\n",
        "    corpus.append(data)\n",
        "corpus"
      ],
      "metadata": {
        "id": "0SexWDmjCPe0",
        "outputId": "3a2f4abe-b31a-4dad-90cd-93085dca958a",
        "colab": {
          "base_uri": "https://localhost:8080/"
        }
      },
      "execution_count": null,
      "outputs": [
        {
          "output_type": "execute_result",
          "data": {
            "text/plain": [
              "['dream got grab never let go']"
            ]
          },
          "metadata": {},
          "execution_count": 50
        }
      ]
    },
    {
      "cell_type": "code",
      "source": [
        "from tensorflow.keras.preprocessing.text import one_hot\n",
        "voc_size = 10000 \n",
        "onehot_rep = [one_hot(words, voc_size) for words in corpus] \n",
        "print(onehot_rep)"
      ],
      "metadata": {
        "id": "OfZud7okCjs6",
        "outputId": "369a0b17-a672-4bd0-cced-c1b7472c6e0e",
        "colab": {
          "base_uri": "https://localhost:8080/"
        }
      },
      "execution_count": null,
      "outputs": [
        {
          "output_type": "stream",
          "name": "stdout",
          "text": [
            "[[206, 6277, 8026, 2857, 7683, 4512]]\n"
          ]
        }
      ]
    },
    {
      "cell_type": "code",
      "source": [
        "from tensorflow.keras.preprocessing.sequence import pad_sequences\n",
        "sent_len = 5850\n",
        "embedded_docs = pad_sequences(onehot_rep, padding='pre', maxlen=sent_len)\n",
        "print(embedded_docs)"
      ],
      "metadata": {
        "id": "3UJqYoY-CzGF",
        "outputId": "f7a95abd-2867-48d5-897a-a331f4476ed0",
        "colab": {
          "base_uri": "https://localhost:8080/"
        }
      },
      "execution_count": null,
      "outputs": [
        {
          "output_type": "stream",
          "name": "stdout",
          "text": [
            "[[   0    0    0 ... 2857 7683 4512]]\n"
          ]
        }
      ]
    },
    {
      "cell_type": "code",
      "source": [
        "from keras.models import load_model\n",
        "\n",
        "saved_model = load_model(\"/content/drive/MyDrive/TweetData/Depression_LSTM_output.h5\")\n",
        "\n",
        "if saved_model.predict([embedded_docs]) > 0.5:\n",
        "  print(f\"Not Depressed ---> {saved_model.predict([embedded_docs])}\")\n",
        "else:\n",
        "  print(f\"Depressed ---> {saved_model.predict([embedded_docs])}\")"
      ],
      "metadata": {
        "id": "Y1FJ7YvFC4y-",
        "outputId": "05ce9b21-45e0-4623-d35d-dfac4b51dc3c",
        "colab": {
          "base_uri": "https://localhost:8080/"
        }
      },
      "execution_count": null,
      "outputs": [
        {
          "output_type": "stream",
          "name": "stdout",
          "text": [
            "Not Depressed ---> [[0.9975884]]\n"
          ]
        }
      ]
    },
    {
      "cell_type": "code",
      "source": [
        ""
      ],
      "metadata": {
        "id": "CVM_lk2dD6FR"
      },
      "execution_count": null,
      "outputs": []
    }
  ],
  "metadata": {
    "colab": {
      "name": "Depression Model Working",
      "provenance": []
    },
    "kernelspec": {
      "display_name": "Python 3",
      "name": "python3"
    }
  },
  "nbformat": 4,
  "nbformat_minor": 0
}